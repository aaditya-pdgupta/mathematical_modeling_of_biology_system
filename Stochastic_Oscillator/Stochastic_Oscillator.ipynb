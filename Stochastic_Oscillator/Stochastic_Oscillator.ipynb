{
 "cells": [
  {
   "cell_type": "code",
   "execution_count": null,
   "id": "8c56d81e",
   "metadata": {},
   "outputs": [],
   "source": [
    "# We need some modules (Python libraries) in the following.\n",
    "# Usually, such modules are loaded in the first cell of a notebook.\n",
    "# The modules that we need concern numerical calculations,\n",
    "# solving the ordinary differential equations, and plotting them later.\n",
    "\n",
    "# all plots should appear directly within the notebook\n",
    "%matplotlib inline\n",
    "\n",
    "# modules necessary for plotting\n",
    "import matplotlib.pyplot as plt\n",
    "\n",
    "# integrate a system of ordinary differential equations\n",
    "# initial value problem\n",
    "from scipy.integrate import odeint\n",
    "\n",
    "# module to make available data structures and routines\n",
    "# for numerics\n",
    "import numpy as np\n",
    "import random"
   ]
  },
  {
   "cell_type": "code",
   "execution_count": null,
   "id": "88f68153",
   "metadata": {},
   "outputs": [],
   "source": [
    "G1 = [0] # Gene first time interval\n",
    "G2 = [0] # Gene second time interval\n",
    "G3 = [0] # Gene third time interval\n",
    "t = [0] # time point of new event"
   ]
  },
  {
   "cell_type": "code",
   "execution_count": null,
   "id": "c586f715",
   "metadata": {},
   "outputs": [],
   "source": [
    "tend = 1000"
   ]
  },
  {
   "cell_type": "code",
   "execution_count": null,
   "id": "1b12bb16",
   "metadata": {},
   "outputs": [],
   "source": [
    "k_1 = 2\n",
    "gamma_1 = 0.1\n",
    "k_2 = 2\n",
    "gamma_2 = 0.1\n",
    "k_3 = 2\n",
    "gamma_3 = 0.1\n",
    "n = 9\n",
    "c = 1"
   ]
  },
  {
   "cell_type": "code",
   "execution_count": null,
   "id": "ef6de842",
   "metadata": {},
   "outputs": [],
   "source": [
    "while t[-1] < tend: # -1 means last value of t array\n",
    "    current_G1 = G1[-1]\n",
    "    current_G2 = G2[-1]\n",
    "    current_G3 = G3[-1]\n",
    "    rates = [(c**n / (c**n + current_G3**n)) * k_1, gamma_1 * current_G1,\\\n",
    "    (current_G1**n / (c**n + current_G1**n)) * k_2, gamma_2 * current_G2,\\\n",
    "    (current_G2**n / (c**n + current_G2**n)) * k_3, gamma_3 * current_G3]\n",
    "    rate_sum = sum(rates) # sum of the rates \n",
    "    tau = np.random.exponential(scale=1/rate_sum) # tau is the next point of time for event and the scale is the mean of distribution\n",
    "    t.append(t[-1] + tau)\n",
    "    rand = random.uniform(0,1) \n",
    "    if rand * rate_sum < rates[0]: # G1 production event \n",
    "            G1.append(G1[-1] + 1)\n",
    "            G2.append(G2[-1])\n",
    "            G3.append(G3[-1])\n",
    "    elif rand * rate_sum > rates[0] and rand * rate_sum < sum(rates[:2]): # G1 decay event \n",
    "            G1.append(G1[-1] - 1)\n",
    "            G2.append(G2[-1])\n",
    "            G3.append(G3[-1])\n",
    "    elif rand * rate_sum > sum(rates[:2]) and rand * rate_sum < sum(rates[:3]):# G2 production event\n",
    "            G1.append(G1[-1])\n",
    "            G2.append(G2[-1] + 1)\n",
    "            G3.append(G3[-1])\n",
    "    elif rand * rate_sum > sum(rates[:3]) and rand * rate_sum < sum(rates[:4]): # G2 decay event \n",
    "            G1.append(G1[-1])\n",
    "            G2.append(G2[-1] - 1)\n",
    "            G3.append(G3[-1])\n",
    "    elif rand * rate_sum > sum(rates[:4]) and rand * rate_sum < sum(rates[:5]): # G3 production event\n",
    "            G1.append(G1[-1])\n",
    "            G2.append(G2[-1] )\n",
    "            G3.append(G3[-1] + 1)\n",
    "    elif rand * rate_sum > sum(rates[:5]) and rand * rate_sum < sum(rates[:6]): # G3 decay event\n",
    "            G1.append(G1[-1])\n",
    "            G2.append(G2[-1] )\n",
    "            G3.append(G3[-1] - 1)"
   ]
  },
  {
   "cell_type": "code",
   "execution_count": null,
   "id": "d2d3988d",
   "metadata": {},
   "outputs": [],
   "source": [
    "f, (ax1, ax2, ax3) = plt.subplots(3, sharex=True, sharey=False)\n",
    "line1, = ax1.plot(t , G1, color=\"b\",label=\"G1\")\n",
    "line2, = ax2.plot(t , G2, color=\"r\",label=\"G2\")\n",
    "line3, = ax3.plot(t , G3, color=\"g\",label=\"G3\")\n",
    "ax1.set_ylabel(\"Number\")\n",
    "ax3.set_xlabel(\"Time\")\n",
    "ax1.legend(handles=[line1,line2,line3])\n",
    "ax1.grid()\n",
    "ax2.grid()\n",
    "ax3.grid()\n",
    "plt.show()\n",
    "#plt.savefig(\"Stochastic_Oscillator_1.pdf\", dpi=400,  bbox_inches='tight')\n"
   ]
  },
  {
   "cell_type": "code",
   "execution_count": null,
   "id": "e7538294",
   "metadata": {},
   "outputs": [],
   "source": []
  },
  {
   "cell_type": "code",
   "execution_count": null,
   "id": "d037ff75",
   "metadata": {},
   "outputs": [],
   "source": []
  },
  {
   "cell_type": "code",
   "execution_count": null,
   "id": "491accce",
   "metadata": {},
   "outputs": [],
   "source": []
  }
 ],
 "metadata": {
  "kernelspec": {
   "display_name": "Python 3 (ipykernel)",
   "language": "python",
   "name": "python3"
  },
  "language_info": {
   "codemirror_mode": {
    "name": "ipython",
    "version": 3
   },
   "file_extension": ".py",
   "mimetype": "text/x-python",
   "name": "python",
   "nbconvert_exporter": "python",
   "pygments_lexer": "ipython3",
   "version": "3.9.12"
  }
 },
 "nbformat": 4,
 "nbformat_minor": 5
}
