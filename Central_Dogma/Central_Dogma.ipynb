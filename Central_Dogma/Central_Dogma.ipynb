{
 "cells": [
  {
   "cell_type": "markdown",
   "id": "3e1a3cff",
   "metadata": {},
   "source": [
    "## Central Dogma"
   ]
  },
  {
   "cell_type": "markdown",
   "id": "52dd419e",
   "metadata": {},
   "source": [
    "### Central dogma of molecular biology is an explanation of the flow of genetics information within a biological system.It is often stated as \"DNA makes RNA and RNA makes proteins\". The transfer of information from nucleic acid to nucleic acid ,or from nucleic acid to protein may be possible but transfer from protein to protein or from protein to nucleic acid is impossible. Information means here precise determination of sequence either of bases in the nucleic acid or of amino acid residue in protein.\n",
    "### The dogma is a framework for understanding the transfer of sequence information between information-carrying biopolymers in the most common or general case in living organism. There are 3 major classes of such biopolymers: DNA and RNA(both nucleic acids), and protein. There arew 3*3 = 9 conceivable direct transfer of information that can occur between these. The dogma classes these into 3 groups of 3:\n",
    "* 3 general transfers(believed to occur normally in most cells),\n",
    "* 3 special transfers(known to occur, but only under specific conditions in case of some viruses or in a laboratory),\n",
    "* 3 unknown transfers(believed never to occur).\n",
    "### The general transfers describe the normal flow of biological information: DNA can be copied to DNA (DNA replication), DNA information can be copied into mRNA, (transcription), and proteins can be synthesized using the information in mRNA as a template (translation)."
   ]
  },
  {
   "cell_type": "markdown",
   "id": "32c5e272",
   "metadata": {},
   "source": [
    "### The differential equation for model of central dogma:\n",
    "\n",
    "$$\\frac{dm}{dt} = k_{m} -\\gamma_{m}*{m}$$\n",
    "\n",
    "$$\\frac{dp}{dt} = k_{p} * m -\\gamma_{p}*{p}$$\n",
    "### where\n",
    "* p is protein\n",
    "* m is mRNA\n",
    "* $k_{m}$ is the production rate for the mRNA\n",
    "* $\\gamma_{p}$ is the degradation rate of protein\n",
    "* $k_{p}$ is the production rate for the proteins\n",
    "* $\\gamma_{m}$ is the degradation rate for mRNA \n",
    "\n",
    "\n",
    "\n",
    "\n",
    "       "
   ]
  },
  {
   "cell_type": "code",
   "execution_count": 9,
   "id": "33b2f410",
   "metadata": {},
   "outputs": [],
   "source": [
    "# We need some modules (Python libraries) in the following.\n",
    "# Usually, such modules are loaded in the first cell of a notebook.\n",
    "# The modules that we need concern numerical calculations,\n",
    "# solving the ordinary differential equations, and plotting them later.\n",
    "\n",
    "# all plots should appear directly within the notebook\n",
    "%matplotlib inline\n",
    "\n",
    "# modules necessary for plotting\n",
    "import matplotlib.pyplot as plt\n",
    "\n",
    "# integrate a system of ordinary differential equations\n",
    "# initial value problem\n",
    "from scipy.integrate import odeint\n",
    "\n",
    "# module to make available data structures and routines\n",
    "# for numerics\n",
    "import numpy as np"
   ]
  },
  {
   "cell_type": "code",
   "execution_count": 10,
   "id": "f91f4eb0",
   "metadata": {},
   "outputs": [],
   "source": [
    "y0 = [0,0] # 0 protein and 0 mRNA\n",
    "t = np.linspace(0,200,num=100) # 100 means hundred different point\n"
   ]
  },
  {
   "cell_type": "code",
   "execution_count": 11,
   "id": "55bf7d2a",
   "metadata": {},
   "outputs": [],
   "source": [
    "k_m = 0.2\n",
    "gamma_m = 0.05 #degradtion rate should be less than production rate\n",
    "k_p = 0.4\n",
    "gamma_p = 0.1"
   ]
  },
  {
   "cell_type": "code",
   "execution_count": 17,
   "id": "6e8747ec",
   "metadata": {},
   "outputs": [],
   "source": [
    "params = [k_m, gamma_m, k_p, gamma_p] #putting the params to array which will be passed in this offer"
   ]
  },
  {
   "cell_type": "code",
   "execution_count": 13,
   "id": "20544a83",
   "metadata": {},
   "outputs": [],
   "source": [
    "def sim(variables, t, params):\n",
    "    m = variables[0]\n",
    "    p = variables[1]\n",
    "    k_m = params[0]      #they are the first, second and so on element of the params arraygamma_m = params[1]\n",
    "    k_p = params[2]\n",
    "    gamma_p = params[3]\n",
    "    dmdt = k_m - gamma_m * m\n",
    "    dpdt = k_p * m - gamma_p * p\n",
    "    return([dmdt,dpdt])\n",
    "        "
   ]
  },
  {
   "cell_type": "code",
   "execution_count": 14,
   "id": "e5f38bdf",
   "metadata": {},
   "outputs": [],
   "source": [
    "y = odeint(sim, y0, t, args=(params,)) #, is used for storing args and we get y matrix with two column one for p and another for m and row for every time point\n"
   ]
  },
  {
   "cell_type": "code",
   "execution_count": 8,
   "id": "d8cb0de1",
   "metadata": {},
   "outputs": [
    {
     "data": {
      "image/png": "[encoded data removed]",
      "text/plain": [
       "<Figure size 432x288 with 1 Axes>"
      ]
     },
     "metadata": {
      "needs_background": "light"
     },
     "output_type": "display_data"
    }
   ],
   "source": [
    "plt.plot(t,y[:,0], color=\"b\", label=\"M\")\n",
    "plt.plot(t,y[:,1], color=\"r\", label=\"P\")\n",
    "plt.xlabel(\"Abundance\")\n",
    "plt.ylabel(\"Time\")\n",
    "plt.legend()\n",
    "plt.grid()\n",
    "#plt.show()\n",
    "plt.savefig(\"centra_dogma_1.pdf\", dpi=400,  bbox_inches='tight')"
   ]
  },
  {
   "cell_type": "markdown",
   "id": "b26e2b11",
   "metadata": {},
   "source": [
    "## Observation\n",
    "\n",
    "### The above figures shows the relation between abundance of mRNA and protein over time.  Along the x-axis, we have the time axis and along y-axis we have abundance of both mRNA and protein. We observe that M(blue line) denotes mRNA in the above fig while P(red line) denotes protein.Both of them starts at zero and then they increases until they reach their steady state .The steady state for mRNA is 4 and for protein is 16 above. The abundance of protein is more than mRNA because it depends upon the mRNA production ( $k_{p} * m$ )while mRNA production is indepentent ($k_{m}$)."
   ]
  },
  {
   "cell_type": "markdown",
   "id": "a8445bd5",
   "metadata": {},
   "source": [
    "## Changing the initial parameters "
   ]
  },
  {
   "cell_type": "code",
   "execution_count": 23,
   "id": "f1bc50f9",
   "metadata": {},
   "outputs": [],
   "source": [
    "k_m = 0.5\n",
    "gamma_m = 0.1 \n",
    "k_p = 0.7\n",
    "gamma_p = 0.2"
   ]
  },
  {
   "cell_type": "code",
   "execution_count": 24,
   "id": "794d9fc2",
   "metadata": {},
   "outputs": [],
   "source": [
    "params = [k_m, gamma_m, k_p, gamma_p]"
   ]
  },
  {
   "cell_type": "code",
   "execution_count": 25,
   "id": "5f286b8f",
   "metadata": {},
   "outputs": [],
   "source": [
    "def sim(variables, t, params):\n",
    "    m = variables[0]\n",
    "    p = variables[1]\n",
    "    k_m = params[0]      \n",
    "    k_p = params[2]\n",
    "    gamma_p = params[3]\n",
    "    dmdt = k_m - gamma_m * m\n",
    "    dpdt = k_p * m - gamma_p * p\n",
    "    return([dmdt,dpdt])\n",
    "        "
   ]
  },
  {
   "cell_type": "code",
   "execution_count": 26,
   "id": "dbdc9086",
   "metadata": {},
   "outputs": [],
   "source": [
    "y = odeint(sim, y0, t, args=(params,)) \n"
   ]
  },
  {
   "cell_type": "code",
   "execution_count": 28,
   "id": "745d3982",
   "metadata": {},
   "outputs": [
    {
     "data": {
      "image/png": "[encoded data removed]",
      "text/plain": [
       "<Figure size 432x288 with 1 Axes>"
      ]
     },
     "metadata": {
      "needs_background": "light"
     },
     "output_type": "display_data"
    }
   ],
   "source": [
    "plt.plot(t,y[:,0], color=\"b\", label=\"M\")\n",
    "plt.plot(t,y[:,1], color=\"r\", label=\"P\")\n",
    "plt.xlabel(\"Abundance\")\n",
    "plt.ylabel(\"Time\")\n",
    "plt.legend()\n",
    "plt.grid()\n",
    "#plt.show()\n",
    "plt.savefig(\"centra_dogma _2.pdf\", dpi=400,  bbox_inches='tight')"
   ]
  },
  {
   "cell_type": "markdown",
   "id": "11bb90f3",
   "metadata": {},
   "source": [
    "### If we change the initial parameters of $k_m$, $\\gamma_m$, $k_{p}$, $\\gamma_{p}$ greater than above we came to know that the steady state for both mRNA and protein increases by same amount. The nature of the curves remain almost same."
   ]
  },
  {
   "cell_type": "code",
   "execution_count": null,
   "id": "45ea31ae",
   "metadata": {},
   "outputs": [],
   "source": []
  }
 ],
 "metadata": {
  "kernelspec": {
   "display_name": "Python 3 (ipykernel)",
   "language": "python",
   "name": "python3"
  },
  "language_info": {
   "codemirror_mode": {
    "name": "ipython",
    "version": 3
   },
   "file_extension": ".py",
   "mimetype": "text/x-python",
   "name": "python",
   "nbconvert_exporter": "python",
   "pygments_lexer": "ipython3",
   "version": "3.9.12"
  }
 },
 "nbformat": 4,
 "nbformat_minor": 5
}
