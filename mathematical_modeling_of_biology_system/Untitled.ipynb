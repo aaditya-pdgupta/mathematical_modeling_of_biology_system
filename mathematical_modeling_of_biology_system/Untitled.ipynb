{
 "cells": [
  {
   "cell_type": "code",
   "execution_count": 11,
   "id": "e2fbb16d",
   "metadata": {},
   "outputs": [],
   "source": [
    "import numpy as np\n",
    "import matplotlib.pyplot as plt\n",
    "from scipy.integrate import odeint"
   ]
  },
  {
   "cell_type": "code",
   "execution_count": 4,
   "id": "248e4150",
   "metadata": {},
   "outputs": [
    {
     "ename": "SyntaxError",
     "evalue": "invalid syntax (2633531713.py, line 15)",
     "output_type": "error",
     "traceback": [
      "\u001b[0;36m  Input \u001b[0;32mIn [4]\u001b[0;36m\u001b[0m\n\u001b[0;31m    dmdt = k_m - gamma_m * m:\u001b[0m\n\u001b[0m                            ^\u001b[0m\n\u001b[0;31mSyntaxError\u001b[0m\u001b[0;31m:\u001b[0m invalid syntax\n"
     ]
    }
   ],
   "source": [
    "y0 = [0,0] # 0 protein and 0 mRNA\n",
    "t = np.linspace(0,200,num=100) # 100 means hundred different point\n",
    "k_m = 0.2\n",
    "gamma_m = 0.05 #degradtion rate should be less than production rate\n",
    "k_p = 0.4\n",
    "gamma_p = 0.1\n",
    "params = [k_m, gamma_m, k_p, gamma_p]#putting the params to array which will be passed in this offer\n",
    "def sim(variables, t, params):\n",
    "    m = variables[0:]\n",
    "    p = variables[1:]\n",
    "    k_m = params[0:]      #they are the first, second and so on element of the params array\n",
    "gamma_m = params[1:]\n",
    "k_p = params[2:]\n",
    "gamma_p = params[3:]\n",
    "dmdt = k_m - gamma_m * m\n",
    "dpdt = k_p * m - gamma_p * p\n",
    "return([dmdt,dpdt])\n",
    "y = odeint(sim, y0, t, args=(params,)) #, is used for storing args and we get y matrix with two column one for p and another for m and row for every time point\n",
    "f,ax = plt.subplots(1)\n",
    "line1, = ax.plot(t,y[:,0], color=\"b\", label=\"M\")\n",
    "line2, = ax.plot(t,y[:,1], color=\"r\", label=\"P\")\n",
    "ax.set_ylabel(\"Abundance\")\n",
    "ax.set_xlabel('Time')\n",
    "ax.legend(handless=[line1,line2])\n",
    "plt.show()"
   ]
  },
  {
   "cell_type": "code",
   "execution_count": null,
   "id": "2609d833",
   "metadata": {},
   "outputs": [],
   "source": []
  }
 ],
 "metadata": {
  "kernelspec": {
   "display_name": "Python 3 (ipykernel)",
   "language": "python",
   "name": "python3"
  },
  "language_info": {
   "codemirror_mode": {
    "name": "ipython",
    "version": 3
   },
   "file_extension": ".py",
   "mimetype": "text/x-python",
   "name": "python",
   "nbconvert_exporter": "python",
   "pygments_lexer": "ipython3",
   "version": "3.9.12"
  }
 },
 "nbformat": 4,
 "nbformat_minor": 5
}
