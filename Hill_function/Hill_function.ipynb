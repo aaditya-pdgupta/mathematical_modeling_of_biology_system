{
 "cells": [
  {
   "cell_type": "markdown",
   "id": "1c8ab7fc",
   "metadata": {},
   "source": [
    "## Hill Function\n",
    "\n",
    "### The so called Hill Function were  introduced by A.V hill in 1910 to describe the binding of oxygen to hameoglobin. Subsequently,  they have been widely used in biochemistry, physicology and  mathematical modeling gene expression.\n",
    "### The Central Dogma of molecular Biology states that DNA makes and RNA makes proteins.The process by which DNA is copied to RNA is called transcription and by which RNA is used to produce protein is translation. The hill function is expressed as follow:\n",
    "* Activation Hill Function \n",
    "* Repression Hill Function"
   ]
  },
  {
   "cell_type": "markdown",
   "id": "3fc17dda",
   "metadata": {},
   "source": [
    "## Activation Hill Function\n",
    "\n",
    "### In this  function Gene first ($G_{1}$) act as an activator  for Gene second($G_{2}$) and it increases the probablity of transcription often by increasing probability of RNA polymerase binding.\n",
    "\n",
    "### The differential equation for Activation Hil Function:\n",
    "$$\\frac{dG_1}{dt} = k_{1} - \\gamma_{1}G_{1}$$\n",
    "$$\\frac{dG_2}{dt} = [\\frac{G_{1}^{n}}{c^{n} + G_{1}^{n}}]k_{2} - \\gamma_{2}G_{2}$$\n",
    "### Where\n",
    "* $k_{1}$ is production rate of $G_{1}$\n",
    "* $\\gamma_{1}$ is degradation rate of $G_{1}$\n",
    "* $k_{2}$ is production rate of $G_{2}$\n",
    "* $\\gamma_{2}$ is degradation rate of $G_{2}$\n",
    "* c = constant\n",
    "* n =  hill constant "
   ]
  },
  {
   "cell_type": "code",
   "execution_count": 24,
   "id": "10568d88",
   "metadata": {},
   "outputs": [],
   "source": [
    "# We need some modules (Python libraries) in the following.\n",
    "# Usually, such modules are loaded in the first cell of a notebook.\n",
    "# The modules that we need concern numerical calculations,\n",
    "# solving the ordinary differential equations, and plotting them later.\n",
    "\n",
    "# all plots should appear directly within the notebook\n",
    "%matplotlib inline\n",
    "\n",
    "# modules necessary for plotting\n",
    "import matplotlib.pyplot as plt\n",
    "\n",
    "# integrate a system of ordinary differential equations\n",
    "# initial value problem\n",
    "from scipy.integrate import odeint\n",
    "\n",
    "# module to make available data structures and routines\n",
    "# for numerics\n",
    "import numpy as np"
   ]
  },
  {
   "cell_type": "code",
   "execution_count": 25,
   "id": "76981cbf",
   "metadata": {},
   "outputs": [],
   "source": [
    "y0 = [0,0] # 0 for G1 and 0 for G2\n",
    "t = np.linspace(0,200,num=100) # 100 means hundred different point\n"
   ]
  },
  {
   "cell_type": "code",
   "execution_count": 26,
   "id": "fc817575",
   "metadata": {},
   "outputs": [],
   "source": [
    "k_1 = 0.5\n",
    "gamma_1 = 0.1 #degradtion rate should be less than production rate\n",
    "k_2 = 0.5\n",
    "gamma_2 = 0.05\n",
    "n = 5\n",
    "c = 5"
   ]
  },
  {
   "cell_type": "code",
   "execution_count": 27,
   "id": "912dea56",
   "metadata": {},
   "outputs": [],
   "source": [
    "params = [k_1, gamma_1, k_2, gamma_2, n, c] #putting the params to array which will be passed in this offer"
   ]
  },
  {
   "cell_type": "code",
   "execution_count": 28,
   "id": "cdd5f2bc",
   "metadata": {},
   "outputs": [],
   "source": [
    "def activation(variables, t, params):\n",
    "    G1 = variables[0]\n",
    "    G2 = variables[1]\n",
    "    k_1 = params[0]\n",
    "    gamma_1 = params[1]#they are the first, second and so on element of the params arraygamma_m = params[1]\n",
    "    k_2 = params[2]\n",
    "    gamma_2 = params[3]\n",
    "    n = params[4]\n",
    "    c = params[5]\n",
    "    dG1dt = k_1 - gamma_1 * G1\n",
    "    dG2dt = (G1**n / (c**n + G1**n)) * k_2 - gamma_2 * G2\n",
    "    return([dG1dt,dG2dt])\n",
    "        "
   ]
  },
  {
   "cell_type": "code",
   "execution_count": 29,
   "id": "7c0185b7",
   "metadata": {},
   "outputs": [],
   "source": [
    "y = odeint(activation, y0, t, args=(params,)) #, is used for storing args and we get y matrix with two column one for G1 and another for G2 and row for every time point\n"
   ]
  },
  {
   "cell_type": "code",
   "execution_count": 30,
   "id": "878d0e22",
   "metadata": {},
   "outputs": [
    {
     "data": {
      "image/png": "[encoded data removed]",
      "text/plain": [
       "<Figure size 432x288 with 1 Axes>"
      ]
     },
     "metadata": {
      "needs_background": "light"
     },
     "output_type": "display_data"
    }
   ],
   "source": [
    "plt.plot(t , y[:,0], color=\"b\", label=\"G1\")\n",
    "plt.plot(t , y[:,1], color=\"r\", label=\"G2\")\n",
    "plt.xlabel(\"Time\")\n",
    "plt.ylabel(\"Number\")\n",
    "plt.legend()\n",
    "plt.grid()\n",
    "#plt.show()\n",
    "plt.savefig(\"Hill_function_Activation_1.pdf\", dpi=400,  bbox_inches='tight')"
   ]
  },
  {
   "cell_type": "markdown",
   "id": "bd384dcf",
   "metadata": {},
   "source": [
    "## Observation\n",
    "\n",
    "### The above figures shows the relation between Gene first ($G_{1}$) and Gene second($G_{2}$)  over time. Along the y-axis, we have the time axis and along x-axis we have number of Gene first ($G_{1}$) and Gene second$G_{2}$.  We observe that $G_{1}$(blue line) denotes Gene first in the above fig while $G_{2}$(red line) denotes Gene second. Here (($G_{1}$) quickly get activated and reaches to the steady point while $G_{2}$ delays. This is because for activating the $G_{2}$, $G_{1}$ should be produced."
   ]
  },
  {
   "cell_type": "markdown",
   "id": "954ca47b",
   "metadata": {},
   "source": [
    "## Changing the initial parameters"
   ]
  },
  {
   "cell_type": "code",
   "execution_count": 31,
   "id": "9ff21a08",
   "metadata": {},
   "outputs": [],
   "source": [
    "k_1 = 8\n",
    "gamma_1 = 3 #degradtion rate should be less than production rate\n",
    "k_2 = 6\n",
    "gamma_2 =2 \n",
    "n = 4\n",
    "c = 1"
   ]
  },
  {
   "cell_type": "code",
   "execution_count": 32,
   "id": "778d8219",
   "metadata": {},
   "outputs": [],
   "source": [
    "params = [k_1, gamma_1, k_2, gamma_2, n, c] #putting the params to array which will be passed in this offer"
   ]
  },
  {
   "cell_type": "code",
   "execution_count": 33,
   "id": "561af83a",
   "metadata": {},
   "outputs": [],
   "source": [
    "def activation(variables, t, params):\n",
    "    G1 = variables[0]\n",
    "    G2 = variables[1]\n",
    "    k_1 = params[0]\n",
    "    gamma_1 = params[1]#they are the first, second and so on element of the params arraygamma_m = params[1]\n",
    "    k_2 = params[2]\n",
    "    gamma_2 = params[3]\n",
    "    n = params[4]\n",
    "    c = params[5]\n",
    "    dG1dt = k_1 - gamma_1 * G1\n",
    "    dG2dt = (G1**n / (c**n + G1**n)) * k_2 - gamma_2 * G2\n",
    "    return([dG1dt,dG2dt])\n",
    "        "
   ]
  },
  {
   "cell_type": "code",
   "execution_count": 34,
   "id": "0e1e0378",
   "metadata": {},
   "outputs": [],
   "source": [
    "y = odeint(activation, y0, t, args=(params,)) #, is used for storing args and we get y matrix with two column one for G1 and another for G2 and row for every time point\n"
   ]
  },
  {
   "cell_type": "code",
   "execution_count": 35,
   "id": "8d2155cf",
   "metadata": {},
   "outputs": [
    {
     "data": {
      "image/png": "[encoded data removed]",
      "text/plain": [
       "<Figure size 432x288 with 1 Axes>"
      ]
     },
     "metadata": {
      "needs_background": "light"
     },
     "output_type": "display_data"
    }
   ],
   "source": [
    "plt.plot(t , y[:,0], color=\"b\", label=\"G1\")\n",
    "plt.plot(t , y[:,1], color=\"r\", label=\"G2\")\n",
    "plt.xlabel(\"Time\")\n",
    "plt.ylabel(\"Number\")\n",
    "plt.legend()\n",
    "plt.grid()\n",
    "#plt.show()\n",
    "plt.savefig(\"Hill_function_Activation_2.pdf\", dpi=400,  bbox_inches='tight')"
   ]
  },
  {
   "cell_type": "markdown",
   "id": "43592396",
   "metadata": {},
   "source": [
    "### If we change the initial parameters of $k_1$, $\\gamma_1$, $k_{2}$, $\\gamma_{2}$ greater than above we came to know that the steady state for both Gene first ($G_{1}$) and Gene second($G_{2}$) changes but the nature of the curves  remain same. If $G_{1}$ be the zero than the production rate of gene two will also be zero."
   ]
  },
  {
   "cell_type": "markdown",
   "id": "50d3001a",
   "metadata": {},
   "source": [
    "## Repression Hill Function\n",
    "\n",
    "### In this  function Gene first ($G_{1}$) act as an repressor  for Gene second($G_{2}$) and it decreases the probablity of transcription often by decreasing probability of RNA polymerase binding.\n",
    "\n",
    "### The differential equation for Repression Hil Function:\n",
    "$$\\frac{dG_1}{dt} = k_{1} - \\gamma_{1}G_{1}$$\n",
    "$$\\frac{dG_2}{dt} = [\\frac{c^{n}}{c^{n} + G_{1}^{n}}]k_{2} - \\gamma_{2}G_{2}$$\n",
    "### Where\n",
    "* $k_{1}$ is production rate of $G_{1}$\n",
    "* $\\gamma_{1}$ is degradation rate of $G_{1}$\n",
    "* $k_{2}$ is production rate of $G_{2}$\n",
    "* $\\gamma_{2}$ is degradation rate of $G_{2}$\n",
    "* c = constant\n",
    "* n =  hill constant "
   ]
  },
  {
   "cell_type": "code",
   "execution_count": 1,
   "id": "f60c880b",
   "metadata": {},
   "outputs": [],
   "source": [
    "\n",
    "# We need some modules (Python libraries) in the following.\n",
    "# Usually, such modules are loaded in the first cell of a notebook.\n",
    "# The modules that we need concern numerical calculations,\n",
    "# solving the ordinary differential equations, and plotting them later.\n",
    "\n",
    "# all plots should appear directly within the notebook\n",
    "%matplotlib inline\n",
    "\n",
    "# modules necessary for plotting\n",
    "import matplotlib.pyplot as plt\n",
    "\n",
    "# integrate a system of ordinary differential equations\n",
    "# initial value problem\n",
    "from scipy.integrate import odeint\n",
    "\n",
    "# module to make available data structures and routines\n",
    "# for numerics\n",
    "import numpy as np"
   ]
  },
  {
   "cell_type": "code",
   "execution_count": 2,
   "id": "c2308c06",
   "metadata": {},
   "outputs": [],
   "source": [
    "y0 = [0,0] # 0 for G1 and 0 for G2\n",
    "t = np.linspace(0,200,num=100) # 100 means hundred different point\n"
   ]
  },
  {
   "cell_type": "code",
   "execution_count": 3,
   "id": "d333738d",
   "metadata": {},
   "outputs": [],
   "source": [
    "k_1 = 0.4\n",
    "gamma_1 = 0.1 #degradtion rate should be less than production rate\n",
    "k_2 = 0.9\n",
    "gamma_2 = 0.1\n",
    "n = 4\n",
    "c = 1"
   ]
  },
  {
   "cell_type": "code",
   "execution_count": 4,
   "id": "98b9f1e8",
   "metadata": {},
   "outputs": [],
   "source": [
    "params = [k_1, gamma_1, k_2, gamma_2, n, c] #putting the params to array which will be passed in this offer"
   ]
  },
  {
   "cell_type": "code",
   "execution_count": 5,
   "id": "aaece47c",
   "metadata": {},
   "outputs": [],
   "source": [
    "def repression(variables, t, params):\n",
    "    G1 = variables[0]\n",
    "    G2 = variables[1]\n",
    "    k_1 = params[0]\n",
    "    gamma_1 = params[1]#they are the first, second and so on element of the params arraygamma_m = params[1]\n",
    "    k_2 = params[2]\n",
    "    gamma_2 = params[3]\n",
    "    n = params[4]\n",
    "    c = params[5]\n",
    "    dG1dt = k_1 - gamma_1 * G1\n",
    "    dG2dt = (c**n / (c**n + G1**n)) * k_2 - gamma_2 * G2\n",
    "    return([dG1dt,dG2dt])\n",
    "        "
   ]
  },
  {
   "cell_type": "code",
   "execution_count": 6,
   "id": "f377f208",
   "metadata": {},
   "outputs": [],
   "source": [
    "y = odeint(repression, y0, t, args=(params,)) #, is used for storing args and we get y matrix with two column one for G1 and another for G2 and row for every time point\n"
   ]
  },
  {
   "cell_type": "code",
   "execution_count": 22,
   "id": "efe53cfc",
   "metadata": {},
   "outputs": [
    {
     "data": {
      "image/png": "[encoded data removed]",
      "text/plain": [
       "<Figure size 432x288 with 1 Axes>"
      ]
     },
     "metadata": {
      "needs_background": "light"
     },
     "output_type": "display_data"
    }
   ],
   "source": [
    "plt.plot(t , y[:,0], color=\"b\", label=\"G1\")\n",
    "plt.plot(t , y[:,1], color=\"r\", label=\"G2\")\n",
    "plt.xlabel(\"Time\")\n",
    "plt.ylabel(\"Number\")\n",
    "plt.legend()\n",
    "plt.grid()\n",
    "#plt.show()\n",
    "plt.savefig(\"Hill_function_Repression_1.pdf\", dpi=400,  bbox_inches='tight')"
   ]
  },
  {
   "cell_type": "markdown",
   "id": "7ae03f2b",
   "metadata": {},
   "source": [
    "## Observation\n",
    "\n",
    "### The above figures shows the relation between Gene first ($G_{1}$) and Gene second($G_{2}$)  over time. Along the y-axis, we have the time axis and along x-axis we have number of Gene first ($G_{1}$) and Gene second$G_{2}$.  We observe that $G_{1}$(blue line) denotes Gene first in the above fig while $G_{2}$(red line) denotes Gene second. Here (($G_{1}$) quickly get activated and reaches to the steady point while $G_{2}$ delays. This is because for activating the $G_{2}$, $G_{1}$ should be produced."
   ]
  },
  {
   "cell_type": "markdown",
   "id": "59efb243",
   "metadata": {},
   "source": [
    "## Changing the initial parameters"
   ]
  },
  {
   "cell_type": "code",
   "execution_count": 28,
   "id": "a7b22f4d",
   "metadata": {},
   "outputs": [],
   "source": [
    "\n",
    "# We need some modules (Python libraries) in the following.\n",
    "# Usually, such modules are loaded in the first cell of a notebook.\n",
    "# The modules that we need concern numerical calculations,\n",
    "# solving the ordinary differential equations, and plotting them later.\n",
    "\n",
    "# all plots should appear directly within the notebook\n",
    "%matplotlib inline\n",
    "\n",
    "# modules necessary for plotting\n",
    "import matplotlib.pyplot as plt\n",
    "\n",
    "# integrate a system of ordinary differential equations\n",
    "# initial value problem\n",
    "from scipy.integrate import odeint\n",
    "\n",
    "# module to make available data structures and routines\n",
    "# for numerics\n",
    "import numpy as np"
   ]
  },
  {
   "cell_type": "code",
   "execution_count": 29,
   "id": "95e8b55b",
   "metadata": {},
   "outputs": [],
   "source": [
    "y0 = [0,0] # 0 for G1 and 0 for G2\n",
    "t = np.linspace(0,200,num=100) # 100 means hundred different point\n"
   ]
  },
  {
   "cell_type": "code",
   "execution_count": 30,
   "id": "f8f51d75",
   "metadata": {},
   "outputs": [],
   "source": [
    "k_1 = 0.6\n",
    "gamma_1 = 0.2 #degradtion rate should be less than production rate\n",
    "k_2 = 1\n",
    "gamma_2 = 0.1\n",
    "n = 5\n",
    "c = 2"
   ]
  },
  {
   "cell_type": "code",
   "execution_count": 31,
   "id": "8a29e6ca",
   "metadata": {},
   "outputs": [],
   "source": [
    "params = [k_1, gamma_1, k_2, gamma_2, n, c] #putting the params to array which will be passed in this offer"
   ]
  },
  {
   "cell_type": "code",
   "execution_count": 32,
   "id": "612351bb",
   "metadata": {},
   "outputs": [],
   "source": [
    "def repression(variables, t, params):\n",
    "    G1 = variables[0]\n",
    "    G2 = variables[1]\n",
    "    k_1 = params[0]\n",
    "    gamma_1 = params[1]#they are the first, second and so on element of the params arraygamma_m = params[1]\n",
    "    k_2 = params[2]\n",
    "    gamma_2 = params[3]\n",
    "    n = params[4]\n",
    "    c = params[5]\n",
    "    dG1dt = k_1 - gamma_1 * G1\n",
    "    dG2dt = (c**n / (c**n + G1**n)) * k_2 - gamma_2 * G2\n",
    "    return([dG1dt,dG2dt])\n",
    "        "
   ]
  },
  {
   "cell_type": "code",
   "execution_count": 33,
   "id": "93fc71b0",
   "metadata": {},
   "outputs": [],
   "source": [
    "y = odeint(repression, y0, t, args=(params,)) #, is used for storing args and we get y matrix with two column one for G1 and another for G2 and row for every time point\n"
   ]
  },
  {
   "cell_type": "code",
   "execution_count": 34,
   "id": "f8dc53dc",
   "metadata": {},
   "outputs": [
    {
     "data": {
      "image/png": "[encoded data removed]",
      "text/plain": [
       "<Figure size 432x288 with 1 Axes>"
      ]
     },
     "metadata": {
      "needs_background": "light"
     },
     "output_type": "display_data"
    }
   ],
   "source": [
    "plt.plot(t , y[:,0], color=\"b\", label=\"G1\")\n",
    "plt.plot(t , y[:,1], color=\"r\", label=\"G2\")\n",
    "plt.xlabel(\"Time\")\n",
    "plt.ylabel(\"Number\")\n",
    "plt.legend()\n",
    "plt.grid()\n",
    "#plt.show()\n",
    "plt.savefig(\"Hill_function_Repression_2.pdf\", dpi=400,  bbox_inches='tight')"
   ]
  },
  {
   "cell_type": "code",
   "execution_count": null,
   "id": "9368bbc8",
   "metadata": {},
   "outputs": [],
   "source": []
  },
  {
   "cell_type": "code",
   "execution_count": null,
   "id": "4ffd89f7",
   "metadata": {},
   "outputs": [],
   "source": []
  }
 ],
 "metadata": {
  "kernelspec": {
   "display_name": "Python 3 (ipykernel)",
   "language": "python",
   "name": "python3"
  },
  "language_info": {
   "codemirror_mode": {
    "name": "ipython",
    "version": 3
   },
   "file_extension": ".py",
   "mimetype": "text/x-python",
   "name": "python",
   "nbconvert_exporter": "python",
   "pygments_lexer": "ipython3",
   "version": "3.9.12"
  }
 },
 "nbformat": 4,
 "nbformat_minor": 5
}
